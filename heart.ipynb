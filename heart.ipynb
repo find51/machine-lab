{
 "cells": [
  {
   "cell_type": "code",
   "execution_count": 6,
   "metadata": {},
   "outputs": [],
   "source": [
    "# Import necessary libraries\n",
    "import pandas as pd\n",
    "from scipy.stats import zscore\n",
    "from sklearn.preprocessing import StandardScaler, LabelEncoder\n",
    "from sklearn.model_selection import train_test_split\n",
    "from sklearn.svm import SVC\n",
    "from sklearn.linear_model import LogisticRegression\n",
    "from sklearn.ensemble import RandomForestClassifier\n",
    "from sklearn.metrics import accuracy_score\n",
    "from scipy.stats import zscore\n",
    "from sklearn.decomposition import PCA\n",
    "from sklearn.preprocessing import LabelEncoder\n",
    "\n"
   ]
  },
  {
   "cell_type": "code",
   "execution_count": 7,
   "metadata": {},
   "outputs": [],
   "source": [
    "df=pd.read_csv('heart.csv')"
   ]
  },
  {
   "cell_type": "code",
   "execution_count": 8,
   "metadata": {},
   "outputs": [
    {
     "name": "stdout",
     "output_type": "stream",
     "text": [
      "        age  trestbps      chol   thalach   oldpeak\n",
      "0 -0.268437 -0.377636 -0.659332  0.821321 -0.060888\n",
      "1 -0.158157  0.479107 -0.833861  0.255968  1.727137\n",
      "2  1.716595  0.764688 -1.396233 -1.048692  1.301417\n",
      "3  0.724079  0.936037 -0.833861  0.516900 -0.912329\n",
      "4  0.834359  0.364875  0.930822 -1.874977  0.705408\n"
     ]
    }
   ],
   "source": [
    "# Identify the numerical columns\n",
    "numeric_cols = ['age', 'trestbps', 'chol', 'thalach', 'oldpeak']\n",
    "\n",
    "# Calculate and display the Z-scores for each of the specified columns\n",
    "z_scores = df[numeric_cols].apply(zscore)\n",
    "\n",
    "# Display the Z-scores\n",
    "print(z_scores.head())  # Shows the Z-scores for the first few rows\n"
   ]
  },
  {
   "cell_type": "code",
   "execution_count": null,
   "metadata": {},
   "outputs": [
    {
     "name": "stdout",
     "output_type": "stream",
     "text": [
      "Label Encoded Data:\n",
      "   age  sex  cp  trestbps  chol  fbs  restecg  thalach  exang  oldpeak  slope  \\\n",
      "0   52    1   0       125   212    0        1      168      0      1.0      2   \n",
      "1   53    1   0       140   203    1        0      155      1      3.1      0   \n",
      "2   70    1   0       145   174    0        1      125      1      2.6      0   \n",
      "3   61    1   0       148   203    0        1      161      0      0.0      2   \n",
      "4   62    0   0       138   294    1        1      106      0      1.9      1   \n",
      "\n",
      "   ca  thal  target  \n",
      "0   2     3       0  \n",
      "1   0     3       0  \n",
      "2   0     3       0  \n",
      "3   1     3       0  \n",
      "4   3     2       0  \n",
      "\n",
      "One-Hot Encoded Data:\n",
      "   age  trestbps  chol  thalach  oldpeak  target  sex_0  sex_1  cp_0   cp_1  \\\n",
      "0   52       125   212      168      1.0       0  False   True  True  False   \n",
      "1   53       140   203      155      3.1       0  False   True  True  False   \n",
      "2   70       145   174      125      2.6       0  False   True  True  False   \n",
      "3   61       148   203      161      0.0       0  False   True  True  False   \n",
      "4   62       138   294      106      1.9       0   True  False  True  False   \n",
      "\n",
      "   ...  slope_2   ca_0   ca_1   ca_2   ca_3   ca_4  thal_0  thal_1  thal_2  \\\n",
      "0  ...     True  False  False   True  False  False   False   False   False   \n",
      "1  ...    False   True  False  False  False  False   False   False   False   \n",
      "2  ...    False   True  False  False  False  False   False   False   False   \n",
      "3  ...     True  False   True  False  False  False   False   False   False   \n",
      "4  ...    False  False  False  False   True  False   False   False    True   \n",
      "\n",
      "   thal_3  \n",
      "0    True  \n",
      "1    True  \n",
      "2    True  \n",
      "3    True  \n",
      "4   False  \n",
      "\n",
      "[5 rows x 31 columns]\n"
     ]
    }
   ],
   "source": [
    "# Create a copy of the data for label encoding\n",
    "label_encoded_data = df.copy()\n",
    "# Create a copy of the data for one-hot encoding\n",
    "one_hot_encoded_data = df.copy()\n",
    "\n",
    "# Apply Label Encoding to all categorical columns\n",
    "label_encoder = LabelEncoder()\n",
    "categorical_columns = ['sex', 'cp', 'fbs', 'restecg', 'exang', 'slope', 'ca', 'thal']  # specify relevant columns\n",
    "\n",
    "for col in categorical_columns:\n",
    "    label_encoded_data[col] = label_encoder.fit_transform(label_encoded_data[col])\n",
    "\n",
    "# Apply One-Hot Encoding to all categorical columns\n",
    "one_hot_encoded_data = pd.get_dummies(one_hot_encoded_data, columns=categorical_columns)\n",
    "\n",
    "# Display the first few rows of each encoded dataset\n",
    "print(\"Label Encoded Data:\")\n",
    "print(label_encoded_data.head())\n",
    "\n",
    "print(\"\\nOne-Hot Encoded Data:\")\n",
    "print(one_hot_encoded_data.head())\n"
   ]
  },
  {
   "cell_type": "code",
   "execution_count": 12,
   "metadata": {},
   "outputs": [
    {
     "name": "stdout",
     "output_type": "stream",
     "text": [
      "        age  trestbps      chol   thalach   oldpeak\n",
      "0 -0.268437 -0.377636 -0.659332  0.821321 -0.060888\n",
      "1 -0.158157  0.479107 -0.833861  0.255968  1.727137\n",
      "2  1.716595  0.764688 -1.396233 -1.048692  1.301417\n",
      "3  0.724079  0.936037 -0.833861  0.516900 -0.912329\n",
      "4  0.834359  0.364875  0.930822 -1.874977  0.705408\n"
     ]
    }
   ],
   "source": [
    "# Step 4: Apply Scaling to Numerical Columns\n",
    "scaler = StandardScaler()\n",
    "numeric_cols = ['age', 'trestbps', 'chol', 'thalach', 'oldpeak']\n",
    "\n",
    "# Fit and transform the numeric columns and update them in the DataFrame\n",
    "df[numeric_cols] = scaler.fit_transform(df[numeric_cols])\n",
    "\n",
    "# Display the first few rows to see the scaled values\n",
    "print(df[numeric_cols].head())\n"
   ]
  },
  {
   "cell_type": "code",
   "execution_count": 20,
   "metadata": {},
   "outputs": [
    {
     "name": "stdout",
     "output_type": "stream",
     "text": [
      "Accuracy without PCA: {'SVM': 0.8341463414634146, 'Logistic Regression': 0.7951219512195122, 'Random Forest': 0.9853658536585366}\n"
     ]
    }
   ],
   "source": [
    "# Step 5: Build Classification Models (SVM, Logistic Regression, Random Forest)\n",
    "# Split data into features and target\n",
    "X = df.drop('target', axis=1)\n",
    "y = df['target']\n",
    "X_train, X_test, y_train, y_test = train_test_split(X, y, test_size=0.2, random_state=42)\n",
    "\n",
    "# Initialize models\n",
    "models = {\n",
    "    'SVM': SVC(),\n",
    "    'Logistic Regression': LogisticRegression(),\n",
    "    'Random Forest': RandomForestClassifier()\n",
    "}\n",
    "\n",
    "# Train and evaluate each model\n",
    "accuracy_results = {}\n",
    "for name, model in models.items():\n",
    "    model.fit(X_train, y_train)\n",
    "    y_pred = model.predict(X_test)\n",
    "    accuracy_results[name] = accuracy_score(y_test, y_pred)\n",
    "\n",
    "# Print accuracy results for each model\n",
    "print(\"Accuracy without PCA:\", accuracy_results)"
   ]
  },
  {
   "cell_type": "code",
   "execution_count": 23,
   "metadata": {},
   "outputs": [
    {
     "name": "stdout",
     "output_type": "stream",
     "text": [
      "Accuracy with PCA (Random Forest): 0.9853658536585366\n"
     ]
    }
   ],
   "source": [
    "# Step 6: Apply PCA and Retrain the Best Model (Random Forest)\n",
    "# Apply PCA with a reasonable number of components (e.g., 2)\n",
    "pca = PCA(n_components=2)\n",
    "X_train_pca = pca.fit_transform(X_train)\n",
    "X_test_pca = pca.transform(X_test)\n",
    "\n",
    "# Retrain Random Forest model on PCA-transformed data\n",
    "best_model = RandomForestClassifier()\n",
    "best_model.fit(X_train_pca, y_train)\n",
    "y_pred_pca = best_model.predict(X_test_pca)\n",
    "pca_accuracy = accuracy_score(y_test, y_pred_pca)\n",
    "\n",
    "# Print accuracy after PCA\n",
    "print(\"Accuracy with PCA (Random Forest):\", pca_accuracy)"
   ]
  }
 ],
 "metadata": {
  "kernelspec": {
   "display_name": "Python 3",
   "language": "python",
   "name": "python3"
  },
  "language_info": {
   "codemirror_mode": {
    "name": "ipython",
    "version": 3
   },
   "file_extension": ".py",
   "mimetype": "text/x-python",
   "name": "python",
   "nbconvert_exporter": "python",
   "pygments_lexer": "ipython3",
   "version": "3.12.3"
  }
 },
 "nbformat": 4,
 "nbformat_minor": 2
}
